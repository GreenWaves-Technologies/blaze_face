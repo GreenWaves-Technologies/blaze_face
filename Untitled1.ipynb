{
 "cells": [
  {
   "cell_type": "code",
   "execution_count": 21,
   "metadata": {},
   "outputs": [],
   "source": [
    "import tensorflow as tf\n",
    "import sys\n",
    "sys.path.insert(0, \"/home/marco-gwt/GWT/gap_sdk/tools/nntool\")\n",
    "import utils\n",
    "from graph.matches.matches import get_scale8_match_group\n",
    "from graph.types import SSDDetectorParameters\n",
    "from importer.tflite2.tflite import TFLiteImporter\n",
    "\n",
    "import numpy as np\n",
    "from utils.data_importer import import_data"
   ]
  },
  {
   "cell_type": "code",
   "execution_count": 26,
   "metadata": {},
   "outputs": [],
   "source": [
    "model_path = \"face_detection_front.tflite\"\n",
    "input_image = 'croppedpgmfile1.pgm'"
   ]
  },
  {
   "cell_type": "code",
   "execution_count": 22,
   "metadata": {},
   "outputs": [],
   "source": [
    "from quantization.unified_quantizer import UnifiedQuantizer\n",
    "from execution.graph_executer import GraphExecuter\n",
    "from execution.quantization_mode import QuantizationMode\n",
    "from stats.activation_ranges_collector import ActivationRangesCollector\n",
    "\n",
    "# NNTOOL\n",
    "tfi = TFLiteImporter()\n",
    "G = tfi.create_graph(model_path, {'load_tensors': True, 'load_quantization': False})\n",
    "G.add_dimensions()\n",
    "# adjust\n",
    "G.adjust_order()\n",
    "# fusions --scale8\n",
    "matcher = get_scale8_match_group()\n",
    "matcher.match(G)\n",
    "G.add_dimensions()\n"
   ]
  },
  {
   "cell_type": "code",
   "execution_count": 24,
   "metadata": {},
   "outputs": [],
   "source": [
    "input_tensor = import_data(input_image, norm_func='x:(x-127.5)/127.5').astype(np.float32)\n",
    "executer = GraphExecuter(G)\n",
    "eval_output = executer.execute([input_tensor], qmode=QuantizationMode.none())\n",
    "\n",
    "astat_col = ActivationRangesCollector()\n",
    "astats = astat_col.collect_stats(G, [input_tensor])\n",
    "quantizer = UnifiedQuantizer('SQ8', astats, bits=8, quantized_dimension=\"channel\")\n",
    "G.quantization = quantizer.quantize(G)\n",
    "\n",
    "executer = GraphExecuter(G, qrecs=G.quantization)\n",
    "qoutput_tensors = executer.execute([input_tensor], qmode=QuantizationMode.all_dequantize())\n",
    "foutput_tensors = executer.execute([input_tensor], qmode=None)"
   ]
  },
  {
   "cell_type": "code",
   "execution_count": 29,
   "metadata": {},
   "outputs": [],
   "source": [
    "# TFLITE\n",
    "interpreter = tf.lite.Interpreter(model_path)\n",
    "interpreter.allocate_tensors()\n",
    "\n",
    "# Get input and output tensors.\n",
    "input_details = interpreter.get_input_details()\n",
    "output_details = interpreter.get_output_details()\n",
    "\n",
    "# Test the model on random input data.\n",
    "input_shape = input_details[0]['shape']\n",
    "input_data = input_tensor.reshape(input_shape)\n",
    "interpreter.set_tensor(input_details[0]['index'], input_data)\n",
    "\n",
    "interpreter.invoke()\n",
    "\n",
    "# The function `get_tensor()` returns a copy of the tensor data.\n",
    "# Use `tensor()` in order to get a pointer to the tensor.\n",
    "output_data = interpreter.get_tensor(output_details[0]['index'])\n"
   ]
  },
  {
   "cell_type": "code",
   "execution_count": null,
   "metadata": {},
   "outputs": [],
   "source": []
  }
 ],
 "metadata": {
  "kernelspec": {
   "display_name": "Python 3",
   "language": "python",
   "name": "python3"
  },
  "language_info": {
   "codemirror_mode": {
    "name": "ipython",
    "version": 3
   },
   "file_extension": ".py",
   "mimetype": "text/x-python",
   "name": "python",
   "nbconvert_exporter": "python",
   "pygments_lexer": "ipython3",
   "version": "3.8.5"
  }
 },
 "nbformat": 4,
 "nbformat_minor": 4
}
