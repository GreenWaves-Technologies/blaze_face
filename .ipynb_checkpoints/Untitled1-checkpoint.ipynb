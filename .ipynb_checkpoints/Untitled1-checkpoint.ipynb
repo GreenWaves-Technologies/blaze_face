{
 "cells": [
  {
   "cell_type": "code",
   "execution_count": 1,
   "metadata": {},
   "outputs": [],
   "source": [
    "import sys\n",
    "sys.path.insert(0, \"/home/marco-gwt/GWT/gap_sdk/tools/nntool\")\n",
    "import utils\n",
    "from graph.matches.matches import get_scale8_match_group\n",
    "from graph.types import SSDDetectorParameters\n",
    "from importer.tflite2.tflite import TFLiteImporter\n",
    "\n",
    "import numpy as np\n",
    "from utils.data_importer import import_data"
   ]
  },
  {
   "cell_type": "code",
   "execution_count": 3,
   "metadata": {},
   "outputs": [],
   "source": [
    "tfi = TFLiteImporter()\n",
    "G = tfi.create_graph(\"face_detection_front.tflite\", {'load_tensors': True, 'load_quantization': False})\n",
    "G.add_dimensions()\n",
    "# adjust\n",
    "G.adjust_order()\n",
    "# fusions --scale8\n",
    "matcher = get_scale8_match_group()\n",
    "matcher.match(G)\n",
    "G.add_dimensions()\n"
   ]
  },
  {
   "cell_type": "code",
   "execution_count": 11,
   "metadata": {},
   "outputs": [],
   "source": [
    "from quantization.unified_quantizer import UnifiedQuantizer\n",
    "from execution.graph_executer import GraphExecuter\n",
    "from execution.quantization_mode import QuantizationMode\n",
    "from stats.activation_ranges_collector import ActivationRangesCollector\n"
   ]
  },
  {
   "cell_type": "code",
   "execution_count": 12,
   "metadata": {},
   "outputs": [],
   "source": [
    "input_image = 'croppedpgmfile1.pgm'\n",
    "input_tensor = import_data(input_image, norm_func='x:(x-127.5)/127.5').astype(np.float32)\n",
    "executer = GraphExecuter(G)\n",
    "eval_output = executer.execute([input_tensor], qmode=QuantizationMode.none())\n",
    "\n",
    "astat_col = ActivationRangesCollector()\n",
    "astats = astat_col.collect_stats(G, [input_tensor])\n",
    "quantizer = UnifiedQuantizer('SQ8', astats, bits=8, quantized_dimension=\"channel\")\n",
    "G.quantization = quantizer.quantize(G)\n",
    "\n",
    "executer = GraphExecuter(G, qrecs=G.quantization)\n",
    "qoutput_tensors = executer.execute([input_tensor], qmode=QuantizationMode.all_dequantize())\n"
   ]
  },
  {
   "cell_type": "code",
   "execution_count": 15,
   "metadata": {},
   "outputs": [
    {
     "ename": "AttributeError",
     "evalue": "'NoneType' object has no attribute 'output'",
     "output_type": "error",
     "traceback": [
      "\u001b[0;31m---------------------------------------------------------------------------\u001b[0m",
      "\u001b[0;31mAttributeError\u001b[0m                            Traceback (most recent call last)",
      "\u001b[0;32m<ipython-input-15-670472a673ad>\u001b[0m in \u001b[0;36m<module>\u001b[0;34m\u001b[0m\n\u001b[1;32m      2\u001b[0m \u001b[0;32mfrom\u001b[0m \u001b[0mreports\u001b[0m\u001b[0;34m.\u001b[0m\u001b[0mquantization_reporter\u001b[0m \u001b[0;32mimport\u001b[0m \u001b[0mQuantizationReporter\u001b[0m\u001b[0;34m\u001b[0m\u001b[0;34m\u001b[0m\u001b[0m\n\u001b[1;32m      3\u001b[0m \u001b[0mtab\u001b[0m \u001b[0;34m=\u001b[0m \u001b[0mQuantizationReporter\u001b[0m\u001b[0;34m(\u001b[0m\u001b[0;34m)\u001b[0m\u001b[0;34m.\u001b[0m\u001b[0mreport\u001b[0m\u001b[0;34m(\u001b[0m\u001b[0mG\u001b[0m\u001b[0;34m,\u001b[0m \u001b[0mG\u001b[0m\u001b[0;34m.\u001b[0m\u001b[0mquantization\u001b[0m\u001b[0;34m)\u001b[0m\u001b[0;34m\u001b[0m\u001b[0;34m\u001b[0m\u001b[0m\n\u001b[0;32m----> 4\u001b[0;31m \u001b[0moutput_table\u001b[0m\u001b[0;34m(\u001b[0m\u001b[0mtab\u001b[0m\u001b[0;34m,\u001b[0m \u001b[0;32mNone\u001b[0m\u001b[0;34m)\u001b[0m\u001b[0;34m\u001b[0m\u001b[0;34m\u001b[0m\u001b[0m\n\u001b[0m",
      "\u001b[0;32m~/GWT/gap_sdk/tools/nntool/interpreter/shell_utils.py\u001b[0m in \u001b[0;36moutput_table\u001b[0;34m(table, args)\u001b[0m\n\u001b[1;32m     87\u001b[0m \u001b[0;34m\u001b[0m\u001b[0m\n\u001b[1;32m     88\u001b[0m \u001b[0;32mdef\u001b[0m \u001b[0moutput_table\u001b[0m\u001b[0;34m(\u001b[0m\u001b[0mtable\u001b[0m\u001b[0;34m,\u001b[0m \u001b[0margs\u001b[0m\u001b[0;34m)\u001b[0m\u001b[0;34m:\u001b[0m\u001b[0;34m\u001b[0m\u001b[0;34m\u001b[0m\u001b[0m\n\u001b[0;32m---> 89\u001b[0;31m     \u001b[0mfmt\u001b[0m \u001b[0;34m=\u001b[0m \u001b[0;34m(\u001b[0m\u001b[0;34m'tab'\u001b[0m \u001b[0;32mif\u001b[0m \u001b[0margs\u001b[0m\u001b[0;34m.\u001b[0m\u001b[0moutput\u001b[0m \u001b[0;32mis\u001b[0m \u001b[0;32mNone\u001b[0m \u001b[0;32melse\u001b[0m \u001b[0margs\u001b[0m\u001b[0;34m.\u001b[0m\u001b[0moutput\u001b[0m\u001b[0;34m[\u001b[0m\u001b[0;34m'fmt'\u001b[0m\u001b[0;34m]\u001b[0m\u001b[0;34m)\u001b[0m\u001b[0;34m\u001b[0m\u001b[0;34m\u001b[0m\u001b[0m\n\u001b[0m\u001b[1;32m     90\u001b[0m     \u001b[0;32mif\u001b[0m \u001b[0mfmt\u001b[0m \u001b[0;34m==\u001b[0m \u001b[0;34m\"xls\"\u001b[0m\u001b[0;34m:\u001b[0m\u001b[0;34m\u001b[0m\u001b[0;34m\u001b[0m\u001b[0m\n\u001b[1;32m     91\u001b[0m         \u001b[0mtable\u001b[0m\u001b[0;34m.\u001b[0m\u001b[0mrender\u001b[0m\u001b[0;34m(\u001b[0m\u001b[0mExcelRenderer\u001b[0m\u001b[0;34m(\u001b[0m\u001b[0margs\u001b[0m\u001b[0;34m.\u001b[0m\u001b[0moutput\u001b[0m\u001b[0;34m[\u001b[0m\u001b[0;34m'filename'\u001b[0m\u001b[0;34m]\u001b[0m\u001b[0;34m)\u001b[0m\u001b[0;34m)\u001b[0m\u001b[0;34m\u001b[0m\u001b[0;34m\u001b[0m\u001b[0m\n",
      "\u001b[0;31mAttributeError\u001b[0m: 'NoneType' object has no attribute 'output'"
     ]
    }
   ],
   "source": [
    "from interpreter.shell_utils import output_table, table_options\n",
    "from reports.quantization_reporter import QuantizationReporter\n",
    "parser_qshow = Cmd2ArgumentParser()\n",
    "table_options(parser_qshow)\n",
    "tab = QuantizationReporter().report(G, G.quantization)\n",
    "output_table(tab, None)"
   ]
  },
  {
   "cell_type": "code",
   "execution_count": null,
   "metadata": {},
   "outputs": [],
   "source": []
  }
 ],
 "metadata": {
  "kernelspec": {
   "display_name": "Python 3",
   "language": "python",
   "name": "python3"
  },
  "language_info": {
   "codemirror_mode": {
    "name": "ipython",
    "version": 3
   },
   "file_extension": ".py",
   "mimetype": "text/x-python",
   "name": "python",
   "nbconvert_exporter": "python",
   "pygments_lexer": "ipython3",
   "version": "3.8.5"
  }
 },
 "nbformat": 4,
 "nbformat_minor": 4
}
